{
 "cells": [
  {
   "cell_type": "markdown",
   "id": "83f1b394-f1b0-40a2-bc86-2a84a640ed58",
   "metadata": {
    "tags": []
   },
   "source": [
    " # Data Science Tools and Ecosystem"
   ]
  },
  {
   "cell_type": "markdown",
   "id": "5ea68a8d-cfdb-4797-813e-4f1d794cdf13",
   "metadata": {},
   "source": [
    "<h1>Exercise 1: Create a Jupyter Notebook</h1>"
   ]
  },
  {
   "cell_type": "markdown",
   "id": "f404549a-81fb-4c00-b64d-ce8611938fdd",
   "metadata": {},
   "source": [
    "<h2><strong>Name:</strong> Peer-graded_Assignment_Submitting_My_Work</h2>"
   ]
  },
  {
   "cell_type": "markdown",
   "id": "8acece31-17f0-44dc-bde5-1cd0d66ce20a",
   "metadata": {},
   "source": [
    "<strong>Exercise 2 - Create a markdown cell with the title of the notebook.</strong>"
   ]
  },
  {
   "cell_type": "markdown",
   "id": "4a38fba0-98a6-49de-96bd-b28cf336cddb",
   "metadata": {},
   "source": [
    "In this notebook, Data Science Tools and Ecosystem are summarized."
   ]
  },
  {
   "cell_type": "markdown",
   "id": "cdbebdbf-ac5a-49de-8039-ebcdba788f2e",
   "metadata": {
    "tags": []
   },
   "source": [
    "<strong>Exercise 3 - Create a markdown cell for an introduction. (1 pt)</strong>"
   ]
  },
  {
   "cell_type": "markdown",
   "id": "ebc20374-1785-4f84-956e-473e4b01af57",
   "metadata": {},
   "source": [
    "<p>In this notebook, Data Science Tools and Ecosystem are summarized.<p>"
   ]
  },
  {
   "cell_type": "markdown",
   "id": "81f4c4ca-2446-461a-84c8-707bac198afb",
   "metadata": {},
   "source": [
    "<strong>Objectives:</strong>\n",
    "<ul>\n",
    "    <li>List popular languages that Data Scientists use.</li>\n",
    "    <li>List commonly used libraries used by Data Scientists.</li>\n",
    "    <li>Comment on Data Science tools.</li>\n",
    "</ul>\n",
    "    "
   ]
  },
  {
   "cell_type": "markdown",
   "id": "f7c0fdc7-f7bc-4ba5-af71-540ea3e4cf25",
   "metadata": {},
   "source": [
    "<strong>Exercise 4 - Create a markdown cell to list data science languages. (3 pts)</strong>"
   ]
  },
  {
   "cell_type": "markdown",
   "id": "b52cacdc-5592-4ec7-bc21-095d586292f8",
   "metadata": {},
   "source": [
    "Some of the popular languages that Data Scientists use are:\n",
    "<ol>\n",
    "    <li>Python.</li>\n",
    "    <li>R.</li>\n",
    "    <li>SQL.</li>\n",
    "    <li>Java.</li>\n",
    "    <li>Julia.</li>\n",
    "    <li>Scala.</li>\n",
    "    <li>C/C++.</li>\n",
    "    <li>JavaScript.</li>\n",
    "</ol>\n"
   ]
  },
  {
   "cell_type": "markdown",
   "id": "77726f72-11a3-4af1-9c4b-2678e40c67b1",
   "metadata": {},
   "source": [
    "<strong>Exercise 5 - Create a markdown cell to list data science libraries. (3 pts)</strong>\n",
    "\n",
    "Some of the commonly used libraries used by Data Scientists include:\n",
    "<ol>\n",
    "    <li>TensorFlow.</li>\n",
    "    <li>NumPy.</li>\n",
    "    <li>SciPy.</li>\n",
    "    <li>Pandas.</li>\n",
    "    <li>LightGBM.</li>\n",
    "    <li>ELI5.</li>\n",
    "    <li>Theano.</li>\n",
    "    <li>NuPIC.</li>\n",
    "    <li>Ramp.</li>\n",
    "    <li>Pipenv.</li>\n",
    "    <li>Bob.</li>\n",
    "    <li>PyBrain.</li>\n",
    "    <li>Caffe2.</li>\n",
    "    <li>Chainer.</li>\n",
    "    <li>Matplotlib.</li>\n",
    "    <li>Keras.</li>\n",
    "    <li>SciKit-Learn.</li>\n",
    "    <li>PyTorch.</li>\n",
    "    <li>Scrapy.</li>\n",
    "    <li>BeautifulSoup.</li></ol>"
   ]
  },
  {
   "cell_type": "markdown",
   "id": "425934ed-f00d-4082-95dc-b9840c9fb117",
   "metadata": {},
   "source": [
    "<strong>Exercise 6 - Create a markdown cell with a table of Data Science tools. (3 pts)</strong>"
   ]
  },
  {
   "cell_type": "markdown",
   "id": "4b9e5154-57bc-4a48-a62c-ddc01f806310",
   "metadata": {
    "tags": []
   },
   "source": [
    " # Data Science Tools and Ecosystem"
   ]
  },
  {
   "cell_type": "markdown",
   "id": "de49a775-c05a-4c38-be20-26ae8b9176f7",
   "metadata": {
    "tags": []
   },
   "source": [
    "Data Science Tools:\n",
    "\n",
    "<table style=\"width:100%\">\n",
    "  <tr>\n",
    "    <th>Data Science Tools</th>\n",
    "    <th></th>\n",
    "    <th></th>\n",
    "  </tr>\n",
    "  <tr>\n",
    "    <td>SAS. It is one of those data science tools which are specifically designed for statistical operation</td>\n",
    "    <td></td>\n",
    "    <td></td>\n",
    "  </tr>\n",
    "  <tr>\n",
    "    <td>Apache Spark</td>\n",
    "    <td></td>\n",
    "    <td></td>\n",
    "  </tr>\n",
    "  <tr>\n",
    "    <td>BigML</td>\n",
    "    <td></td>\n",
    "    <td></td>\n",
    "  </tr>\n",
    "</table>\n"
   ]
  },
  {
   "cell_type": "markdown",
   "id": "8aa5fe7c-482e-4b5c-b192-e68f53edac60",
   "metadata": {},
   "source": [
    "<strong>Exercise 7 - Create a markdown cell introducing arithmetic expression examples. (1 pt)</strong>"
   ]
  },
  {
   "cell_type": "markdown",
   "id": "f48f61a0-b42f-4a24-99a4-e8b4fa74fd4a",
   "metadata": {},
   "source": [
    "### Examples of Evaluating Arithmetic Expressions in Python\n",
    "\n",
    "<h3>Below are a few examples of evaluating arithmetic expressions in Python</h3>"
   ]
  },
  {
   "cell_type": "code",
   "execution_count": 22,
   "id": "0fbcd2fe-ea86-4779-8cf3-96abcae10ce8",
   "metadata": {},
   "outputs": [
    {
     "data": {
      "text/plain": [
       "9"
      ]
     },
     "execution_count": 22,
     "metadata": {},
     "output_type": "execute_result"
    }
   ],
   "source": [
    "# Arithmetic operations\n",
    "add = compile(\"5 + 4\", \"<string>\", \"eval\")\n",
    "eval(add)\n"
   ]
  },
  {
   "cell_type": "code",
   "execution_count": 23,
   "id": "cdf50d73-bd6d-4915-aa08-8b19a1880986",
   "metadata": {},
   "outputs": [
    {
     "data": {
      "text/plain": [
       "42"
      ]
     },
     "execution_count": 23,
     "metadata": {},
     "output_type": "execute_result"
    }
   ],
   "source": [
    "# Arithmetic operations\n",
    "sum42 = compile(\"(3 + 4) * 6\", \"<string>\", \"eval\")\n",
    "eval(sum7)"
   ]
  },
  {
   "cell_type": "code",
   "execution_count": 24,
   "id": "8c126241-d706-44f3-8af9-9a7caae23c3b",
   "metadata": {},
   "outputs": [
    {
     "data": {
      "text/plain": [
       "42"
      ]
     },
     "execution_count": 24,
     "metadata": {},
     "output_type": "execute_result"
    }
   ],
   "source": [
    "# Arithmetic operations\n",
    "sum42 = compile(\"(3 + 4) * 6\", \"<string>\", \"eval\")\n",
    "eval(sum7)"
   ]
  },
  {
   "cell_type": "markdown",
   "id": "093a532b-5f97-43fc-ae25-9137d38870a7",
   "metadata": {},
   "source": [
    "<strong>Exercise 8 - Create a code cell to multiply and add numbers.(2 pts)</strong>"
   ]
  },
  {
   "cell_type": "code",
   "execution_count": null,
   "id": "d8f2746b-60f4-4ed0-806f-de1f4b9416d2",
   "metadata": {},
   "outputs": [],
   "source": [
    "# This is a simple arithmetic expression to multiply then add integers.\n",
    "result = (3 * 4) + 5\n",
    "print(result)"
   ]
  },
  {
   "cell_type": "markdown",
   "id": "95335dce-9ea9-4156-89b2-9ebe7473db3e",
   "metadata": {},
   "source": [
    "<strong>Exercise 9 - Create a code cell to convert minutes to hours. (2 pts)</strong>"
   ]
  },
  {
   "cell_type": "code",
   "execution_count": 7,
   "id": "5f6ffd12-edc8-403a-bf7c-1f9afd9129c3",
   "metadata": {},
   "outputs": [
    {
     "name": "stdout",
     "output_type": "stream",
     "text": [
      "3.3333333333333335\n"
     ]
    }
   ],
   "source": [
    "# This will convert 200 minutes to hours by dividing by 60.\n",
    "days = 0\n",
    "hours = 0\n",
    "mins = 0\n",
    "\n",
    "time = 200\n",
    "#days = time / 1440\n",
    "leftover_minutes = time % 1440\n",
    "hours = leftover_minutes / 60\n",
    "#mins = time - (days*1440) - (hours*60)\n",
    "print(str(days) + \" days, \" + str(hours) + \" hours, \" + str(mins) +  \" mins. \")\n",
    "\n"
   ]
  },
  {
   "cell_type": "markdown",
   "id": "da62dcdb-c89b-4a4f-9e13-855d54eee877",
   "metadata": {
    "tags": []
   },
   "source": [
    " # Data Science Tools and Ecosystem"
   ]
  },
  {
   "cell_type": "markdown",
   "id": "5c0ec1c9-fa5f-44ee-9d0b-62295106ae0a",
   "metadata": {},
   "source": [
    "<strong>Exercise 10 -Insert a markdown cell to list Objectives.</strong>"
   ]
  },
  {
   "cell_type": "markdown",
   "id": "fdc31d27-7996-4b43-a747-55fb134ff2f9",
   "metadata": {},
   "source": [
    "**Objectives:**\n",
    "\n",
    "- List popular languages for Data Science\n",
    "- Discuss commonly used libraries in Data Science\n",
    "- Perform arithmetic operations in Python\n",
    "- Convert minutes to hours using Python\n",
    "- Understand basic Markdown formatting in Jupyter Notebook\n"
   ]
  },
  {
   "cell_type": "markdown",
   "id": "e323f8c9-5a02-40d3-84f7-e22bca591130",
   "metadata": {},
   "source": [
    "<strong>Exercise 11 Create a markdown cell to indicate the Author’s name.</strong>\n"
   ]
  },
  {
   "cell_type": "markdown",
   "id": "e61ac15d-ae74-4a3b-a737-56128b906e9c",
   "metadata": {},
   "source": [
    "<h2>Author:</h2> Kiko Israel"
   ]
  }
 ],
 "metadata": {
  "kernelspec": {
   "display_name": "anaconda-2022.05-py39",
   "language": "python",
   "name": "conda-env-anaconda-2022.05-py39-py"
  },
  "language_info": {
   "codemirror_mode": {
    "name": "ipython",
    "version": 3
   },
   "file_extension": ".py",
   "mimetype": "text/x-python",
   "name": "python",
   "nbconvert_exporter": "python",
   "pygments_lexer": "ipython3",
   "version": "3.9.12"
  }
 },
 "nbformat": 4,
 "nbformat_minor": 5
}
